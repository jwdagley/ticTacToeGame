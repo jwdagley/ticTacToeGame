{
 "cells": [
  {
   "cell_type": "markdown",
   "metadata": {},
   "source": [
    "## Building the file script"
   ]
  },
  {
   "cell_type": "code",
   "execution_count": 12,
   "metadata": {},
   "outputs": [],
   "source": [
    "import os\n",
    "get_raw_data_script_file = os.path.join(os.path.pardir,'src','data','get_raw_data.py')"
   ]
  },
  {
   "cell_type": "code",
   "execution_count": 23,
   "metadata": {},
   "outputs": [
    {
     "name": "stdout",
     "output_type": "stream",
     "text": [
      "Overwriting ..\\src\\data\\get_raw_data.py\n"
     ]
    }
   ],
   "source": [
    "%%writefile $get_raw_data_script_file\n",
    "# -*- coding: utf-8 -*-\n",
    "import os\n",
    "import kaggle as kg\n",
    "import logging\n",
    "from dotenv import load_dotenv, find_dotenv \n",
    "\n",
    "def get_logger():\n",
    "    '''\n",
    "    get the logger\n",
    "    '''\n",
    "    logger = logging.getLogger(__name__)\n",
    "    logger.info('getting raw data')\n",
    "    \n",
    "    \n",
    "def download_data_from_kaggle():\n",
    "    '''\n",
    "    use kaggle api to download files with username and key from .env file\n",
    "    '''\n",
    "    # find .env automatically by walking up directories until it's found\n",
    "    dotenv_path = find_dotenv()\n",
    "    # load up the entries as environmental variables\n",
    "    load_dotenv(dotenv_path)\n",
    "\n",
    "    # get kaggle username and password from .env file\n",
    "    os.environ['KAGGLE_USERNAME']  = os.environ.get(\"KAGGLE_USERNAME\")\n",
    "    os.environ['KAGGLE_KEY'] = os.environ.get(\"KAGGLE_PASSWORD\")\n",
    "    \n",
    "    # authenticate with kaggle api and download\n",
    "    kg.api.authenticate()\n",
    "    os.system('kaggle competitions download -c \"titanic\" -p ..\\\\data\\\\raw')\n",
    "\n",
    "\n",
    "\n",
    "def main(project_dir):\n",
    "    '''\n",
    "    main method\n",
    "    '''\n",
    "    get_logger()\n",
    "    download_data_from_kaggle()\n",
    "    \n",
    "\n",
    "if __name__ == '__main__':\n",
    "    # getting the root directory\n",
    "    project_dir = os.path.join(os.path.dirname(__file__), os.pardir, os.pardir)\n",
    "    \n",
    "    # setup logger\n",
    "    log_fmt = '%(asctime)s - %(name)s - %(levelname)s - $(message)s'\n",
    "    logging.basicConfig(level=logging.INFO, format=log_fmt)\n",
    "    \n",
    "    main(project_dir)"
   ]
  },
  {
   "cell_type": "code",
   "execution_count": 26,
   "metadata": {},
   "outputs": [
    {
     "name": "stdout",
     "output_type": "stream",
     "text": [
      "Downloading titanic.zip to ..\\data\\raw\n",
      "\n"
     ]
    },
    {
     "name": "stderr",
     "output_type": "stream",
     "text": [
      "2019-11-28 10:51:42,374 - __main__ - INFO - $(message)s\n",
      "\n",
      "  0%|          | 0.00/33.9k [00:00<?, ?B/s]\n",
      "100%|##########| 33.9k/33.9k [00:00<00:00, 6.97MB/s]\n"
     ]
    }
   ],
   "source": [
    "!python $get_raw_data_script_file"
   ]
  },
  {
   "cell_type": "code",
   "execution_count": null,
   "metadata": {},
   "outputs": [],
   "source": []
  },
  {
   "cell_type": "code",
   "execution_count": null,
   "metadata": {},
   "outputs": [],
   "source": []
  },
  {
   "cell_type": "code",
   "execution_count": null,
   "metadata": {},
   "outputs": [],
   "source": []
  }
 ],
 "metadata": {
  "kernelspec": {
   "display_name": "Python 3",
   "language": "python",
   "name": "python3"
  },
  "language_info": {
   "codemirror_mode": {
    "name": "ipython",
    "version": 3
   },
   "file_extension": ".py",
   "mimetype": "text/x-python",
   "name": "python",
   "nbconvert_exporter": "python",
   "pygments_lexer": "ipython3",
   "version": "3.7.3"
  }
 },
 "nbformat": 4,
 "nbformat_minor": 2
}
